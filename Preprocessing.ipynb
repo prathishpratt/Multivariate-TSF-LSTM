{
 "cells": [
  {
   "cell_type": "markdown",
   "id": "ab639bf5",
   "metadata": {},
   "source": [
    "## Multivariate Time Series Forecasting with LSTM\n",
    "\n",
    "@author: Prathish Murugan\n",
    "\n",
    "- dataset: https://finance.yahoo.com/quote/GE/history/"
   ]
  },
  {
   "cell_type": "code",
   "execution_count": 1,
   "id": "5254e361",
   "metadata": {},
   "outputs": [],
   "source": [
    "import numpy as np\n",
    "import tensorflow as tf\n",
    "import pandas as pd\n",
    "from matplotlib import pyplot as plt\n",
    "from sklearn.preprocessing import StandardScaler\n",
    "import seaborn as sns"
   ]
  },
  {
   "cell_type": "code",
   "execution_count": 2,
   "id": "1ada45ef",
   "metadata": {},
   "outputs": [
    {
     "name": "stdout",
     "output_type": "stream",
     "text": [
      "[PhysicalDevice(name='/physical_device:GPU:0', device_type='GPU')]\n"
     ]
    },
    {
     "name": "stderr",
     "output_type": "stream",
     "text": [
      "2023-08-30 20:39:19.834782: I metal_plugin/src/device/metal_device.cc:1154] Metal device set to: Apple M1\n",
      "2023-08-30 20:39:19.834828: I metal_plugin/src/device/metal_device.cc:296] systemMemory: 8.00 GB\n",
      "2023-08-30 20:39:19.834848: I metal_plugin/src/device/metal_device.cc:313] maxCacheSize: 2.67 GB\n",
      "2023-08-30 20:39:19.834974: I tensorflow/core/common_runtime/pluggable_device/pluggable_device_factory.cc:303] Could not identify NUMA node of platform GPU ID 0, defaulting to 0. Your kernel may not have been built with NUMA support.\n",
      "2023-08-30 20:39:19.835355: I tensorflow/core/common_runtime/pluggable_device/pluggable_device_factory.cc:269] Created TensorFlow device (/job:localhost/replica:0/task:0/device:GPU:0 with 0 MB memory) -> physical PluggableDevice (device: 0, name: METAL, pci bus id: <undefined>)\n"
     ]
    }
   ],
   "source": [
    "#Using the Macbook GPU for better performance\n",
    "physical_devices = tf.config.list_physical_devices('GPU')\n",
    "tf.print(physical_devices)"
   ]
  },
  {
   "cell_type": "code",
   "execution_count": 3,
   "id": "47f17b6c",
   "metadata": {},
   "outputs": [
    {
     "data": {
      "text/plain": [
       "[PhysicalDevice(name='/physical_device:CPU:0', device_type='CPU'),\n",
       " PhysicalDevice(name='/physical_device:GPU:0', device_type='GPU')]"
      ]
     },
     "execution_count": 3,
     "metadata": {},
     "output_type": "execute_result"
    }
   ],
   "source": [
    "tf.config.list_physical_devices()"
   ]
  },
  {
   "cell_type": "code",
   "execution_count": 4,
   "id": "dab62ad2",
   "metadata": {},
   "outputs": [
    {
     "name": "stdout",
     "output_type": "stream",
     "text": [
      "GPU is available\n"
     ]
    }
   ],
   "source": [
    "# Check if GPU is available\n",
    "if tf.config.list_physical_devices('GPU'):\n",
    "    print('GPU is available')\n",
    "else:\n",
    "    print('GPU is NOT available')"
   ]
  },
  {
   "cell_type": "code",
   "execution_count": 5,
   "id": "10a0e8a9",
   "metadata": {},
   "outputs": [
    {
     "data": {
      "text/html": [
       "<div>\n",
       "<style scoped>\n",
       "    .dataframe tbody tr th:only-of-type {\n",
       "        vertical-align: middle;\n",
       "    }\n",
       "\n",
       "    .dataframe tbody tr th {\n",
       "        vertical-align: top;\n",
       "    }\n",
       "\n",
       "    .dataframe thead th {\n",
       "        text-align: right;\n",
       "    }\n",
       "</style>\n",
       "<table border=\"1\" class=\"dataframe\">\n",
       "  <thead>\n",
       "    <tr style=\"text-align: right;\">\n",
       "      <th></th>\n",
       "      <th>Date</th>\n",
       "      <th>Open</th>\n",
       "      <th>High</th>\n",
       "      <th>Low</th>\n",
       "      <th>Close</th>\n",
       "      <th>Adj Close</th>\n",
       "      <th>Volume</th>\n",
       "    </tr>\n",
       "  </thead>\n",
       "  <tbody>\n",
       "    <tr>\n",
       "      <th>0</th>\n",
       "      <td>1980-01-29</td>\n",
       "      <td>6.927556</td>\n",
       "      <td>6.943193</td>\n",
       "      <td>6.771177</td>\n",
       "      <td>6.802453</td>\n",
       "      <td>1.999407</td>\n",
       "      <td>1332506</td>\n",
       "    </tr>\n",
       "    <tr>\n",
       "      <th>1</th>\n",
       "      <td>1980-01-30</td>\n",
       "      <td>6.802453</td>\n",
       "      <td>7.037020</td>\n",
       "      <td>6.802453</td>\n",
       "      <td>7.037020</td>\n",
       "      <td>2.068352</td>\n",
       "      <td>1404447</td>\n",
       "    </tr>\n",
       "    <tr>\n",
       "      <th>2</th>\n",
       "      <td>1980-01-31</td>\n",
       "      <td>7.037020</td>\n",
       "      <td>7.193399</td>\n",
       "      <td>6.849366</td>\n",
       "      <td>6.880642</td>\n",
       "      <td>2.022388</td>\n",
       "      <td>2015146</td>\n",
       "    </tr>\n",
       "    <tr>\n",
       "      <th>3</th>\n",
       "      <td>1980-02-01</td>\n",
       "      <td>6.880642</td>\n",
       "      <td>7.037020</td>\n",
       "      <td>6.833729</td>\n",
       "      <td>6.990107</td>\n",
       "      <td>2.054564</td>\n",
       "      <td>1370076</td>\n",
       "    </tr>\n",
       "    <tr>\n",
       "      <th>4</th>\n",
       "      <td>1980-02-04</td>\n",
       "      <td>6.990107</td>\n",
       "      <td>7.052658</td>\n",
       "      <td>6.865004</td>\n",
       "      <td>6.880642</td>\n",
       "      <td>2.022388</td>\n",
       "      <td>1592293</td>\n",
       "    </tr>\n",
       "    <tr>\n",
       "      <th>...</th>\n",
       "      <td>...</td>\n",
       "      <td>...</td>\n",
       "      <td>...</td>\n",
       "      <td>...</td>\n",
       "      <td>...</td>\n",
       "      <td>...</td>\n",
       "      <td>...</td>\n",
       "    </tr>\n",
       "    <tr>\n",
       "      <th>10983</th>\n",
       "      <td>2023-08-22</td>\n",
       "      <td>112.150002</td>\n",
       "      <td>113.050003</td>\n",
       "      <td>110.839996</td>\n",
       "      <td>111.660004</td>\n",
       "      <td>111.660004</td>\n",
       "      <td>2640400</td>\n",
       "    </tr>\n",
       "    <tr>\n",
       "      <th>10984</th>\n",
       "      <td>2023-08-23</td>\n",
       "      <td>111.500000</td>\n",
       "      <td>113.760002</td>\n",
       "      <td>111.500000</td>\n",
       "      <td>113.470001</td>\n",
       "      <td>113.470001</td>\n",
       "      <td>2847600</td>\n",
       "    </tr>\n",
       "    <tr>\n",
       "      <th>10985</th>\n",
       "      <td>2023-08-24</td>\n",
       "      <td>113.199997</td>\n",
       "      <td>113.959999</td>\n",
       "      <td>111.019997</td>\n",
       "      <td>111.040001</td>\n",
       "      <td>111.040001</td>\n",
       "      <td>3361500</td>\n",
       "    </tr>\n",
       "    <tr>\n",
       "      <th>10986</th>\n",
       "      <td>2023-08-25</td>\n",
       "      <td>111.449997</td>\n",
       "      <td>112.370003</td>\n",
       "      <td>110.220001</td>\n",
       "      <td>111.970001</td>\n",
       "      <td>111.970001</td>\n",
       "      <td>3112600</td>\n",
       "    </tr>\n",
       "    <tr>\n",
       "      <th>10987</th>\n",
       "      <td>2023-08-28</td>\n",
       "      <td>112.550003</td>\n",
       "      <td>114.279999</td>\n",
       "      <td>112.150002</td>\n",
       "      <td>113.959999</td>\n",
       "      <td>113.959999</td>\n",
       "      <td>2812400</td>\n",
       "    </tr>\n",
       "  </tbody>\n",
       "</table>\n",
       "<p>10988 rows × 7 columns</p>\n",
       "</div>"
      ],
      "text/plain": [
       "             Date        Open        High         Low       Close   Adj Close  \\\n",
       "0      1980-01-29    6.927556    6.943193    6.771177    6.802453    1.999407   \n",
       "1      1980-01-30    6.802453    7.037020    6.802453    7.037020    2.068352   \n",
       "2      1980-01-31    7.037020    7.193399    6.849366    6.880642    2.022388   \n",
       "3      1980-02-01    6.880642    7.037020    6.833729    6.990107    2.054564   \n",
       "4      1980-02-04    6.990107    7.052658    6.865004    6.880642    2.022388   \n",
       "...           ...         ...         ...         ...         ...         ...   \n",
       "10983  2023-08-22  112.150002  113.050003  110.839996  111.660004  111.660004   \n",
       "10984  2023-08-23  111.500000  113.760002  111.500000  113.470001  113.470001   \n",
       "10985  2023-08-24  113.199997  113.959999  111.019997  111.040001  111.040001   \n",
       "10986  2023-08-25  111.449997  112.370003  110.220001  111.970001  111.970001   \n",
       "10987  2023-08-28  112.550003  114.279999  112.150002  113.959999  113.959999   \n",
       "\n",
       "        Volume  \n",
       "0      1332506  \n",
       "1      1404447  \n",
       "2      2015146  \n",
       "3      1370076  \n",
       "4      1592293  \n",
       "...        ...  \n",
       "10983  2640400  \n",
       "10984  2847600  \n",
       "10985  3361500  \n",
       "10986  3112600  \n",
       "10987  2812400  \n",
       "\n",
       "[10988 rows x 7 columns]"
      ]
     },
     "execution_count": 5,
     "metadata": {},
     "output_type": "execute_result"
    }
   ],
   "source": [
    "#Read the csv file\n",
    "df = pd.read_csv('GE.csv')\n",
    "df"
   ]
  },
  {
   "cell_type": "markdown",
   "id": "60d30610",
   "metadata": {},
   "source": [
    "We have 7 columns namely,\n",
    "- Date\t\n",
    "- Open\t\n",
    "- High\t\n",
    "- Low\t\n",
    "- Close\t\n",
    "- Adj Close\t\n",
    "- Volume\n",
    "\n",
    "Droping the volume column from the df.\n"
   ]
  },
  {
   "cell_type": "code",
   "execution_count": 6,
   "id": "ab2fb72a",
   "metadata": {},
   "outputs": [
    {
     "name": "stdout",
     "output_type": "stream",
     "text": [
      "Date          object\n",
      "Open         float64\n",
      "High         float64\n",
      "Low          float64\n",
      "Close        float64\n",
      "Adj Close    float64\n",
      "Volume         int64\n",
      "dtype: object\n",
      "0       1980-01-29\n",
      "1       1980-01-30\n",
      "2       1980-01-31\n",
      "3       1980-02-01\n",
      "4       1980-02-04\n",
      "           ...    \n",
      "10983   2023-08-22\n",
      "10984   2023-08-23\n",
      "10985   2023-08-24\n",
      "10986   2023-08-25\n",
      "10987   2023-08-28\n",
      "Name: Date, Length: 10988, dtype: datetime64[ns]\n"
     ]
    }
   ],
   "source": [
    "print(df.dtypes)\n",
    "#The date is in object format and we need to convert it to datetime\n",
    "train_dates = pd.to_datetime(df['Date'])\n",
    "print(train_dates)"
   ]
  },
  {
   "cell_type": "code",
   "execution_count": 7,
   "id": "c9a6418b",
   "metadata": {},
   "outputs": [
    {
     "data": {
      "text/plain": [
       "['Open', 'High', 'Low', 'Close', 'Adj Close']"
      ]
     },
     "execution_count": 7,
     "metadata": {},
     "output_type": "execute_result"
    }
   ],
   "source": [
    "#get the column names\n",
    "cols = list(df)[1:6]\n",
    "cols"
   ]
  },
  {
   "cell_type": "code",
   "execution_count": 8,
   "id": "1b486be6",
   "metadata": {},
   "outputs": [
    {
     "data": {
      "text/html": [
       "<div>\n",
       "<style scoped>\n",
       "    .dataframe tbody tr th:only-of-type {\n",
       "        vertical-align: middle;\n",
       "    }\n",
       "\n",
       "    .dataframe tbody tr th {\n",
       "        vertical-align: top;\n",
       "    }\n",
       "\n",
       "    .dataframe thead th {\n",
       "        text-align: right;\n",
       "    }\n",
       "</style>\n",
       "<table border=\"1\" class=\"dataframe\">\n",
       "  <thead>\n",
       "    <tr style=\"text-align: right;\">\n",
       "      <th></th>\n",
       "      <th>Open</th>\n",
       "      <th>High</th>\n",
       "      <th>Low</th>\n",
       "      <th>Close</th>\n",
       "      <th>Adj Close</th>\n",
       "    </tr>\n",
       "  </thead>\n",
       "  <tbody>\n",
       "    <tr>\n",
       "      <th>0</th>\n",
       "      <td>6.927556</td>\n",
       "      <td>6.943193</td>\n",
       "      <td>6.771177</td>\n",
       "      <td>6.802453</td>\n",
       "      <td>1.999407</td>\n",
       "    </tr>\n",
       "    <tr>\n",
       "      <th>1</th>\n",
       "      <td>6.802453</td>\n",
       "      <td>7.037020</td>\n",
       "      <td>6.802453</td>\n",
       "      <td>7.037020</td>\n",
       "      <td>2.068352</td>\n",
       "    </tr>\n",
       "    <tr>\n",
       "      <th>2</th>\n",
       "      <td>7.037020</td>\n",
       "      <td>7.193399</td>\n",
       "      <td>6.849366</td>\n",
       "      <td>6.880642</td>\n",
       "      <td>2.022388</td>\n",
       "    </tr>\n",
       "    <tr>\n",
       "      <th>3</th>\n",
       "      <td>6.880642</td>\n",
       "      <td>7.037020</td>\n",
       "      <td>6.833729</td>\n",
       "      <td>6.990107</td>\n",
       "      <td>2.054564</td>\n",
       "    </tr>\n",
       "    <tr>\n",
       "      <th>4</th>\n",
       "      <td>6.990107</td>\n",
       "      <td>7.052658</td>\n",
       "      <td>6.865004</td>\n",
       "      <td>6.880642</td>\n",
       "      <td>2.022388</td>\n",
       "    </tr>\n",
       "    <tr>\n",
       "      <th>...</th>\n",
       "      <td>...</td>\n",
       "      <td>...</td>\n",
       "      <td>...</td>\n",
       "      <td>...</td>\n",
       "      <td>...</td>\n",
       "    </tr>\n",
       "    <tr>\n",
       "      <th>10983</th>\n",
       "      <td>112.150002</td>\n",
       "      <td>113.050003</td>\n",
       "      <td>110.839996</td>\n",
       "      <td>111.660004</td>\n",
       "      <td>111.660004</td>\n",
       "    </tr>\n",
       "    <tr>\n",
       "      <th>10984</th>\n",
       "      <td>111.500000</td>\n",
       "      <td>113.760002</td>\n",
       "      <td>111.500000</td>\n",
       "      <td>113.470001</td>\n",
       "      <td>113.470001</td>\n",
       "    </tr>\n",
       "    <tr>\n",
       "      <th>10985</th>\n",
       "      <td>113.199997</td>\n",
       "      <td>113.959999</td>\n",
       "      <td>111.019997</td>\n",
       "      <td>111.040001</td>\n",
       "      <td>111.040001</td>\n",
       "    </tr>\n",
       "    <tr>\n",
       "      <th>10986</th>\n",
       "      <td>111.449997</td>\n",
       "      <td>112.370003</td>\n",
       "      <td>110.220001</td>\n",
       "      <td>111.970001</td>\n",
       "      <td>111.970001</td>\n",
       "    </tr>\n",
       "    <tr>\n",
       "      <th>10987</th>\n",
       "      <td>112.550003</td>\n",
       "      <td>114.279999</td>\n",
       "      <td>112.150002</td>\n",
       "      <td>113.959999</td>\n",
       "      <td>113.959999</td>\n",
       "    </tr>\n",
       "  </tbody>\n",
       "</table>\n",
       "<p>10988 rows × 5 columns</p>\n",
       "</div>"
      ],
      "text/plain": [
       "             Open        High         Low       Close   Adj Close\n",
       "0        6.927556    6.943193    6.771177    6.802453    1.999407\n",
       "1        6.802453    7.037020    6.802453    7.037020    2.068352\n",
       "2        7.037020    7.193399    6.849366    6.880642    2.022388\n",
       "3        6.880642    7.037020    6.833729    6.990107    2.054564\n",
       "4        6.990107    7.052658    6.865004    6.880642    2.022388\n",
       "...           ...         ...         ...         ...         ...\n",
       "10983  112.150002  113.050003  110.839996  111.660004  111.660004\n",
       "10984  111.500000  113.760002  111.500000  113.470001  113.470001\n",
       "10985  113.199997  113.959999  111.019997  111.040001  111.040001\n",
       "10986  111.449997  112.370003  110.220001  111.970001  111.970001\n",
       "10987  112.550003  114.279999  112.150002  113.959999  113.959999\n",
       "\n",
       "[10988 rows x 5 columns]"
      ]
     },
     "execution_count": 8,
     "metadata": {},
     "output_type": "execute_result"
    }
   ],
   "source": [
    "#Make the \"cols\" colums datatype to float as it would be easier for scaling\n",
    "df_for_training = df[cols].astype(float)\n",
    "df_for_training\n",
    "#This actually wont make a change as the datatype was already float. But for a safety"
   ]
  },
  {
   "cell_type": "code",
   "execution_count": 9,
   "id": "ae8a9e2c",
   "metadata": {},
   "outputs": [
    {
     "data": {
      "text/html": [
       "<div>\n",
       "<style scoped>\n",
       "    .dataframe tbody tr th:only-of-type {\n",
       "        vertical-align: middle;\n",
       "    }\n",
       "\n",
       "    .dataframe tbody tr th {\n",
       "        vertical-align: top;\n",
       "    }\n",
       "\n",
       "    .dataframe thead th {\n",
       "        text-align: right;\n",
       "    }\n",
       "</style>\n",
       "<table border=\"1\" class=\"dataframe\">\n",
       "  <thead>\n",
       "    <tr style=\"text-align: right;\">\n",
       "      <th></th>\n",
       "      <th>Date</th>\n",
       "      <th>Open</th>\n",
       "      <th>High</th>\n",
       "      <th>Low</th>\n",
       "      <th>Close</th>\n",
       "      <th>Adj Close</th>\n",
       "    </tr>\n",
       "  </thead>\n",
       "  <tbody>\n",
       "    <tr>\n",
       "      <th>0</th>\n",
       "      <td>1980-01-29</td>\n",
       "      <td>6.927556</td>\n",
       "      <td>6.943193</td>\n",
       "      <td>6.771177</td>\n",
       "      <td>6.802453</td>\n",
       "      <td>1.999407</td>\n",
       "    </tr>\n",
       "    <tr>\n",
       "      <th>1</th>\n",
       "      <td>1980-01-30</td>\n",
       "      <td>6.802453</td>\n",
       "      <td>7.037020</td>\n",
       "      <td>6.802453</td>\n",
       "      <td>7.037020</td>\n",
       "      <td>2.068352</td>\n",
       "    </tr>\n",
       "    <tr>\n",
       "      <th>2</th>\n",
       "      <td>1980-01-31</td>\n",
       "      <td>7.037020</td>\n",
       "      <td>7.193399</td>\n",
       "      <td>6.849366</td>\n",
       "      <td>6.880642</td>\n",
       "      <td>2.022388</td>\n",
       "    </tr>\n",
       "    <tr>\n",
       "      <th>3</th>\n",
       "      <td>1980-02-01</td>\n",
       "      <td>6.880642</td>\n",
       "      <td>7.037020</td>\n",
       "      <td>6.833729</td>\n",
       "      <td>6.990107</td>\n",
       "      <td>2.054564</td>\n",
       "    </tr>\n",
       "    <tr>\n",
       "      <th>4</th>\n",
       "      <td>1980-02-04</td>\n",
       "      <td>6.990107</td>\n",
       "      <td>7.052658</td>\n",
       "      <td>6.865004</td>\n",
       "      <td>6.880642</td>\n",
       "      <td>2.022388</td>\n",
       "    </tr>\n",
       "    <tr>\n",
       "      <th>...</th>\n",
       "      <td>...</td>\n",
       "      <td>...</td>\n",
       "      <td>...</td>\n",
       "      <td>...</td>\n",
       "      <td>...</td>\n",
       "      <td>...</td>\n",
       "    </tr>\n",
       "    <tr>\n",
       "      <th>10983</th>\n",
       "      <td>2023-08-22</td>\n",
       "      <td>112.150002</td>\n",
       "      <td>113.050003</td>\n",
       "      <td>110.839996</td>\n",
       "      <td>111.660004</td>\n",
       "      <td>111.660004</td>\n",
       "    </tr>\n",
       "    <tr>\n",
       "      <th>10984</th>\n",
       "      <td>2023-08-23</td>\n",
       "      <td>111.500000</td>\n",
       "      <td>113.760002</td>\n",
       "      <td>111.500000</td>\n",
       "      <td>113.470001</td>\n",
       "      <td>113.470001</td>\n",
       "    </tr>\n",
       "    <tr>\n",
       "      <th>10985</th>\n",
       "      <td>2023-08-24</td>\n",
       "      <td>113.199997</td>\n",
       "      <td>113.959999</td>\n",
       "      <td>111.019997</td>\n",
       "      <td>111.040001</td>\n",
       "      <td>111.040001</td>\n",
       "    </tr>\n",
       "    <tr>\n",
       "      <th>10986</th>\n",
       "      <td>2023-08-25</td>\n",
       "      <td>111.449997</td>\n",
       "      <td>112.370003</td>\n",
       "      <td>110.220001</td>\n",
       "      <td>111.970001</td>\n",
       "      <td>111.970001</td>\n",
       "    </tr>\n",
       "    <tr>\n",
       "      <th>10987</th>\n",
       "      <td>2023-08-28</td>\n",
       "      <td>112.550003</td>\n",
       "      <td>114.279999</td>\n",
       "      <td>112.150002</td>\n",
       "      <td>113.959999</td>\n",
       "      <td>113.959999</td>\n",
       "    </tr>\n",
       "  </tbody>\n",
       "</table>\n",
       "<p>10988 rows × 6 columns</p>\n",
       "</div>"
      ],
      "text/plain": [
       "            Date        Open        High         Low       Close   Adj Close\n",
       "0     1980-01-29    6.927556    6.943193    6.771177    6.802453    1.999407\n",
       "1     1980-01-30    6.802453    7.037020    6.802453    7.037020    2.068352\n",
       "2     1980-01-31    7.037020    7.193399    6.849366    6.880642    2.022388\n",
       "3     1980-02-01    6.880642    7.037020    6.833729    6.990107    2.054564\n",
       "4     1980-02-04    6.990107    7.052658    6.865004    6.880642    2.022388\n",
       "...          ...         ...         ...         ...         ...         ...\n",
       "10983 2023-08-22  112.150002  113.050003  110.839996  111.660004  111.660004\n",
       "10984 2023-08-23  111.500000  113.760002  111.500000  113.470001  113.470001\n",
       "10985 2023-08-24  113.199997  113.959999  111.019997  111.040001  111.040001\n",
       "10986 2023-08-25  111.449997  112.370003  110.220001  111.970001  111.970001\n",
       "10987 2023-08-28  112.550003  114.279999  112.150002  113.959999  113.959999\n",
       "\n",
       "[10988 rows x 6 columns]"
      ]
     },
     "execution_count": 9,
     "metadata": {},
     "output_type": "execute_result"
    }
   ],
   "source": [
    "#Test\n",
    "#See how the GE performed through the years\n",
    "df_test = pd.concat([train_dates, df_for_training], axis=1)\n",
    "df_test"
   ]
  },
  {
   "cell_type": "code",
   "execution_count": 10,
   "id": "791023d6",
   "metadata": {},
   "outputs": [
    {
     "data": {
      "image/png": "[encoded data removed]",
      "text/plain": [
       "<Figure size 432x288 with 1 Axes>"
      ]
     },
     "metadata": {
      "needs_background": "light"
     },
     "output_type": "display_data"
    }
   ],
   "source": [
    "#Test, for understanding the pattern\n",
    "import matplotlib.dates as mdates\n",
    "labels = list(df_test)[1:5]\n",
    "plt.gca().xaxis.set_major_formatter(mdates.DateFormatter('%Y-%m-%d'))\n",
    "plt.gca().xaxis.set_major_locator(mdates.DayLocator(interval=1100))\n",
    "plt.plot(df_test[\"Date\"],df_test.iloc[:, 1:5],label = labels)\n",
    "plt.gcf().autofmt_xdate()\n",
    "plt.legend(fontsize=\"small\")\n",
    "plt.show()\n",
    "\n",
    "#As you can see GE was vibin in early 2000s"
   ]
  },
  {
   "cell_type": "code",
   "execution_count": 11,
   "id": "7bede119",
   "metadata": {},
   "outputs": [
    {
     "data": {
      "text/plain": [
       "['Open', 'High', 'Low', 'Close']"
      ]
     },
     "execution_count": 11,
     "metadata": {},
     "output_type": "execute_result"
    }
   ],
   "source": [
    "label = list(df_test)[1:5]\n",
    "label"
   ]
  },
  {
   "cell_type": "code",
   "execution_count": 12,
   "id": "e7ba4d41",
   "metadata": {},
   "outputs": [
    {
     "data": {
      "text/plain": [
       "array([[-1.21575462, -1.21612648, -1.21691741, -1.21700202, -1.26785857],\n",
       "       [-1.21730895, -1.21497341, -1.21652434, -1.21408806, -1.26658337],\n",
       "       [-1.21439461, -1.21305161, -1.21593473, -1.2160307 , -1.26743351],\n",
       "       ...,\n",
       "       [ 0.10460991,  0.09904422,  0.09328181,  0.07791247,  0.74895542],\n",
       "       [ 0.08286732,  0.07950415,  0.08322746,  0.08946561,  0.76615669],\n",
       "       [ 0.09653417,  0.10297682,  0.10748371,  0.11418681,  0.80296368]])"
      ]
     },
     "execution_count": 12,
     "metadata": {},
     "output_type": "execute_result"
    }
   ],
   "source": [
    "#Now we need to scale  the features for all the columns.\n",
    "\n",
    "#LSTM uses sigmoid and tanh that are sensitive to magnitude so values need to be normalized\n",
    "# normalize the dataset\n",
    "\n",
    "scaler = StandardScaler()\n",
    "scaler = scaler.fit(df_for_training)\n",
    "df_for_training_scaled = scaler.transform(df_for_training)\n",
    "df_for_training_scaled"
   ]
  },
  {
   "cell_type": "code",
   "execution_count": 13,
   "id": "7af4e8be",
   "metadata": {},
   "outputs": [],
   "source": [
    "# We will have a sliding window of size 14 and predict the 15th day and move by 1 day each\n",
    "\n",
    "#As required for LSTM networks, we require to reshape an input data into n_samples x timesteps x n_features. \n",
    "#In this example, the n_features is 5. We will make timesteps = 14 (past days data used for training). \n",
    "\n",
    "#Empty lists to be populated using formatted training data\n",
    "trainX = []\n",
    "trainY = []\n",
    "\n",
    "n_future = 1   # Number of days we want to look into the future based on the past days.\n",
    "n_past = 14    # Number of past days we want to use to predict the future."
   ]
  },
  {
   "cell_type": "code",
   "execution_count": 14,
   "id": "d8e0a9d9",
   "metadata": {},
   "outputs": [],
   "source": [
    "#Reformat input data into a shape: (n_samples x timesteps x n_features)\n",
    "#In my example, my df_for_training_scaled has a shape (10988, 5)\n",
    "#10988 refers to the number of data points and 5 refers to the columns (multi-variables).\n",
    "\n",
    "for i in range(n_past, len(df_for_training_scaled) - n_future +1):\n",
    "    trainX.append(df_for_training_scaled[i - n_past:i, 0:df_for_training.shape[1]])\n",
    "    trainY.append(df_for_training_scaled[i + n_future - 1:i + n_future, 0])\n",
    "    \n",
    "#df_for_training.shape[1] = 5\n",
    "#For trainX ==> From 14 days back to the current -1 day. Column from 0 to 4 as 5 is not inc.\n",
    "#For trainY ==> On current day"
   ]
  },
  {
   "cell_type": "code",
   "execution_count": 15,
   "id": "c5f9cded",
   "metadata": {},
   "outputs": [
    {
     "name": "stdout",
     "output_type": "stream",
     "text": [
      "10974\n",
      "(14, 5)\n"
     ]
    }
   ],
   "source": [
    "print(len(trainX))\n",
    "print(trainX[0].shape)\n",
    "# So for each 10974, we have 14,5 matrix"
   ]
  },
  {
   "cell_type": "code",
   "execution_count": 16,
   "id": "3ac20969",
   "metadata": {},
   "outputs": [
    {
     "name": "stdout",
     "output_type": "stream",
     "text": [
      "(10974, 14, 5)\n",
      "(10974, 1)\n"
     ]
    }
   ],
   "source": [
    "#Convert them to array\n",
    "trainX, trainY = np.array(trainX), np.array(trainY)\n",
    "print(trainX.shape)\n",
    "print(trainY.shape)"
   ]
  },
  {
   "cell_type": "code",
   "execution_count": 17,
   "id": "c50d40c7",
   "metadata": {},
   "outputs": [
    {
     "name": "stdout",
     "output_type": "stream",
     "text": [
      "Stored 'trainX' (ndarray)\n",
      "Stored 'trainY' (ndarray)\n",
      "Stored 'n_future' (int)\n",
      "Stored 'n_past' (int)\n",
      "Stored 'train_dates' (Series)\n",
      "Stored 'df_for_training' (DataFrame)\n",
      "Stored 'scaler' (StandardScaler)\n",
      "Stored 'df' (DataFrame)\n"
     ]
    }
   ],
   "source": [
    "%store trainX\n",
    "%store trainY\n",
    "%store n_future\n",
    "%store n_past\n",
    "%store train_dates\n",
    "%store df_for_training\n",
    "%store scaler\n",
    "%store df"
   ]
  },
  {
   "cell_type": "markdown",
   "id": "0412710b",
   "metadata": {},
   "source": [
    "#### NOTE:\n",
    "In my case, trainX has a shape (10974, 14, 5). \n",
    "12809 because we are looking back 14 days (10988 - 14 = 10974). \n",
    "Remember that we cannot look back 14 days until we get to the 15th day. \n",
    "\n",
    "\n",
    "Also, trainY has a shape (10974, 1). Our model only predicts a single value, but \n",
    "it needs multiple variables (5 in my example) to make this prediction. \n",
    "This is why we can only predict a single day after our training, the day after where our data ends.\n",
    "\n",
    "\n",
    "To predict more days in future, we need all the 5 variables which we do not have. \n",
    "We need to predict all variables if we want to do that. \n"
   ]
  }
 ],
 "metadata": {
  "kernelspec": {
   "display_name": "Python 3 (ipykernel)",
   "language": "python",
   "name": "python3"
  },
  "language_info": {
   "codemirror_mode": {
    "name": "ipython",
    "version": 3
   },
   "file_extension": ".py",
   "mimetype": "text/x-python",
   "name": "python",
   "nbconvert_exporter": "python",
   "pygments_lexer": "ipython3",
   "version": "3.9.13"
  }
 },
 "nbformat": 4,
 "nbformat_minor": 5
}
